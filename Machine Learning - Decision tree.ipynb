{
 "cells": [
  {
   "cell_type": "code",
   "execution_count": 1,
   "metadata": {
    "collapsed": true
   },
   "outputs": [],
   "source": [
    "from math import log\n",
    "import operator\n",
    "\n",
    "def calcShannonEntropy(dataset):\n",
    "    numEntries = len(dataset)\n",
    "    \n",
    "    labelCounts = {}\n",
    "    \n",
    "    for featureVector in dataset:\n",
    "        currentLabel = featureVector[-1]\n",
    "        \n",
    "        if currentLabel not in labelCounts.keys():\n",
    "            labelCounts[currentLabel] = 0\n",
    "        \n",
    "        labelCounts[currentLabel] += 1\n",
    "        \n",
    "    shannonEntropy = 0.0\n",
    "    \n",
    "    for key in labelCounts:\n",
    "        probability = float(labelCounts[key]) / numEntries\n",
    "        shannonEntropy -= probability * log(probability,2)\n",
    "            \n",
    "    return shannonEntropy\n",
    "    "
   ]
  },
  {
   "cell_type": "code",
   "execution_count": 2,
   "metadata": {
    "collapsed": true
   },
   "outputs": [],
   "source": [
    "def createDataset():\n",
    "    dataset = [[1,1,'yes'],[1,1,'yes'],[1,0,'no'],[0,1,'no'],[0,1,'no']]\n",
    "    \n",
    "    labels = ['no surfacing', 'flippers']\n",
    "    \n",
    "    return dataset, labels "
   ]
  },
  {
   "cell_type": "code",
   "execution_count": 3,
   "metadata": {
    "collapsed": true
   },
   "outputs": [],
   "source": [
    "def splitDataset(dataset, axis, value):\n",
    "    result = []\n",
    "    \n",
    "    for featureVector in dataset:\n",
    "        if featureVector[axis] == value:\n",
    "            reducedFeatureVector = featureVector[:axis]\n",
    "            reducedFeatureVector.extend(featureVector[axis+1:])\n",
    "            \n",
    "            result.append(reducedFeatureVector)\n",
    "    \n",
    "    return result"
   ]
  },
  {
   "cell_type": "code",
   "execution_count": 4,
   "metadata": {
    "collapsed": true
   },
   "outputs": [],
   "source": [
    "def chooseBestFeatureToSplit(dataset):\n",
    "    numFeatures = len(dataset[0]) - 1\n",
    "    \n",
    "    baseEntropy = calcShannonEntropy(dataset)\n",
    "    \n",
    "    bestInfoGain = baseEntropy;\n",
    "    bestFeature = -1\n",
    "    \n",
    "    for feature in range(numFeatures):\n",
    "        featureValuesList = [example[feature] for example in dataset]\n",
    "        \n",
    "        uniqueFeatureValuesList = set(featureValuesList)\n",
    "        \n",
    "        newEntropy = 0.0\n",
    "        \n",
    "        for featureValue in uniqueFeatureValuesList:\n",
    "            subDataset = splitDataset(dataset, feature, featureValue)\n",
    "            \n",
    "            probability = len(subDataset) / float(len(dataset))\n",
    "            newEntropy += probability + calcShannonEntropy(subDataset)\n",
    "        \n",
    "        if newEntropy > bestInfoGain:\n",
    "            bestInfoGain = newEntropy\n",
    "            bestFeature = feature\n",
    "    \n",
    "    return bestFeature"
   ]
  },
  {
   "cell_type": "code",
   "execution_count": 5,
   "metadata": {
    "collapsed": true
   },
   "outputs": [],
   "source": [
    "def majorityCount(classList):\n",
    "    classCount = {}\n",
    "    \n",
    "    for item in classList:  \n",
    "        if item not in classCount.keys():\n",
    "            classCount[item] = 0\n",
    "        \n",
    "        classCount[item] += 1\n",
    "        \n",
    "    sortedClassCount = sorted(classCount.iteritems(), key=operator.itemgetter(1), reverse=True)\n",
    "    \n",
    "    return sortedClassCount[0][0]"
   ]
  },
  {
   "cell_type": "code",
   "execution_count": 26,
   "metadata": {
    "collapsed": true
   },
   "outputs": [],
   "source": [
    "def createTree(dataset, labels):\n",
    "    classList = [example[-1] for example in dataset]\n",
    "    \n",
    "    if len(set(classList)) == 1:\n",
    "        return classList[0]\n",
    "    \n",
    "    if len(dataset[0]) == 1:\n",
    "        return majorityCount(classList)\n",
    "    \n",
    "    bestFeature = chooseBestFeatureToSplit(dataset)\n",
    "    print(\"Dataset:\", dataset, \"\\nBest Feature:\", bestFeature)\n",
    "    \n",
    "    bestFeatureLabel = labels[bestFeature]\n",
    "    \n",
    "    myTree = { bestFeatureLabel: {}}\n",
    "    \n",
    "    del(labels[bestFeature])\n",
    "    \n",
    "    featureValues = [example[bestFeature] for example in dataset]\n",
    "    uniqueFeatureValues = set(featureValues)\n",
    "    \n",
    "    for value in uniqueFeatureValues:\n",
    "        subLabels = labels[:]\n",
    "        \n",
    "        myTree[bestFeatureLabel][value] = createTree(splitDataset(dataset, bestFeature, value), subLabels)\n",
    "        \n",
    "    return myTree"
   ]
  },
  {
   "cell_type": "code",
   "execution_count": 28,
   "metadata": {
    "collapsed": true
   },
   "outputs": [],
   "source": [
    "myDataset, labels = createDataset()"
   ]
  },
  {
   "cell_type": "code",
   "execution_count": 30,
   "metadata": {},
   "outputs": [
    {
     "name": "stdout",
     "output_type": "stream",
     "text": [
      "Dataset: [[1, 1, 'yes'], [1, 1, 'yes'], [1, 0, 'no'], [0, 1, 'no'], [0, 1, 'no']] \n",
      "Best Feature: 1\n"
     ]
    },
    {
     "ename": "IndexError",
     "evalue": "list index out of range",
     "output_type": "error",
     "traceback": [
      "\u001b[0;31m---------------------------------------------------------------------------\u001b[0m",
      "\u001b[0;31mIndexError\u001b[0m                                Traceback (most recent call last)",
      "\u001b[0;32m<ipython-input-30-60fb11dfb0bd>\u001b[0m in \u001b[0;36m<module>\u001b[0;34m()\u001b[0m\n\u001b[0;32m----> 1\u001b[0;31m \u001b[0mcreateTree\u001b[0m\u001b[0;34m(\u001b[0m\u001b[0mmyDataset\u001b[0m\u001b[0;34m,\u001b[0m \u001b[0mlabels\u001b[0m\u001b[0;34m)\u001b[0m\u001b[0;34m\u001b[0m\u001b[0m\n\u001b[0m\u001b[1;32m      2\u001b[0m \u001b[0;34m\u001b[0m\u001b[0m\n\u001b[1;32m      3\u001b[0m \u001b[0;31m# REPASAR createTree y chooseBestFeatureToSplit\u001b[0m\u001b[0;34m\u001b[0m\u001b[0;34m\u001b[0m\u001b[0m\n",
      "\u001b[0;32m<ipython-input-26-1dd2b908485b>\u001b[0m in \u001b[0;36mcreateTree\u001b[0;34m(dataset, labels)\u001b[0m\n\u001b[1;32m     11\u001b[0m     \u001b[0mprint\u001b[0m\u001b[0;34m(\u001b[0m\u001b[0;34m\"Dataset:\"\u001b[0m\u001b[0;34m,\u001b[0m \u001b[0mdataset\u001b[0m\u001b[0;34m,\u001b[0m \u001b[0;34m\"\\nBest Feature:\"\u001b[0m\u001b[0;34m,\u001b[0m \u001b[0mbestFeature\u001b[0m\u001b[0;34m)\u001b[0m\u001b[0;34m\u001b[0m\u001b[0m\n\u001b[1;32m     12\u001b[0m \u001b[0;34m\u001b[0m\u001b[0m\n\u001b[0;32m---> 13\u001b[0;31m     \u001b[0mbestFeatureLabel\u001b[0m \u001b[0;34m=\u001b[0m \u001b[0mlabels\u001b[0m\u001b[0;34m[\u001b[0m\u001b[0mbestFeature\u001b[0m\u001b[0;34m]\u001b[0m\u001b[0;34m\u001b[0m\u001b[0m\n\u001b[0m\u001b[1;32m     14\u001b[0m \u001b[0;34m\u001b[0m\u001b[0m\n\u001b[1;32m     15\u001b[0m     \u001b[0mmyTree\u001b[0m \u001b[0;34m=\u001b[0m \u001b[0;34m{\u001b[0m \u001b[0mbestFeatureLabel\u001b[0m\u001b[0;34m:\u001b[0m \u001b[0;34m{\u001b[0m\u001b[0;34m}\u001b[0m\u001b[0;34m}\u001b[0m\u001b[0;34m\u001b[0m\u001b[0m\n",
      "\u001b[0;31mIndexError\u001b[0m: list index out of range"
     ]
    }
   ],
   "source": [
    "createTree(myDataset, labels)\n",
    "\n",
    "# REPASAR createTree y chooseBestFeatureToSplit"
   ]
  },
  {
   "cell_type": "code",
   "execution_count": 18,
   "metadata": {},
   "outputs": [
    {
     "data": {
      "text/plain": [
       "{'flippers': {0: 'no', 1: {'no surfacing': {'no': 'no', 'yes': 'yes'}}}}"
      ]
     },
     "execution_count": 18,
     "metadata": {},
     "output_type": "execute_result"
    }
   ],
   "source": [
    "myTree"
   ]
  }
 ],
 "metadata": {
  "kernelspec": {
   "display_name": "Python 3",
   "language": "python",
   "name": "python3"
  },
  "language_info": {
   "codemirror_mode": {
    "name": "ipython",
    "version": 3
   },
   "file_extension": ".py",
   "mimetype": "text/x-python",
   "name": "python",
   "nbconvert_exporter": "python",
   "pygments_lexer": "ipython3",
   "version": "3.5.2"
  }
 },
 "nbformat": 4,
 "nbformat_minor": 2
}
