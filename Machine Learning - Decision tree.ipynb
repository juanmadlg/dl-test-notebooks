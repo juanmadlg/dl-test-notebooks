{
 "cells": [
  {
   "cell_type": "code",
   "execution_count": 1,
   "metadata": {
    "collapsed": true
   },
   "outputs": [],
   "source": [
    "from math import log\n",
    "import operator\n",
    "\n",
    "def calcShannonEntropy(dataset):\n",
    "    numEntries = len(dataset)\n",
    "    \n",
    "    labelCounts = {}\n",
    "    \n",
    "    for featureVector in dataset:\n",
    "        currentLabel = featureVector[-1]\n",
    "        \n",
    "        if currentLabel not in labelCounts.keys():\n",
    "            labelCounts[currentLabel] = 0\n",
    "        \n",
    "        labelCounts[currentLabel] += 1\n",
    "        \n",
    "    shannonEntropy = 0.0\n",
    "    \n",
    "    for key in labelCounts:\n",
    "        probability = float(labelCounts[key]) / numEntries\n",
    "        shannonEntropy -= probability * log(probability,2)\n",
    "            \n",
    "    return shannonEntropy\n",
    "    "
   ]
  },
  {
   "cell_type": "code",
   "execution_count": 2,
   "metadata": {
    "collapsed": true
   },
   "outputs": [],
   "source": [
    "def createDataset():\n",
    "    dataset = [[1,1,'yes'],[1,1,'yes'],[1,0,'no'],[0,1,'no'],[0,1,'no']]\n",
    "    \n",
    "    labels = ['no surfacing', 'flippers']\n",
    "    \n",
    "    return dataset, labels "
   ]
  },
  {
   "cell_type": "code",
   "execution_count": 3,
   "metadata": {
    "collapsed": true
   },
   "outputs": [],
   "source": [
    "def splitDataset(dataset, axis, value):\n",
    "    result = []\n",
    "    \n",
    "    for featureVector in dataset:\n",
    "        if featureVector[axis] == value:\n",
    "            reducedFeatureVector = featureVector[:axis]\n",
    "            reducedFeatureVector.extend(featureVector[axis+1:])\n",
    "            \n",
    "            result.append(reducedFeatureVector)\n",
    "    \n",
    "    return result"
   ]
  },
  {
   "cell_type": "code",
   "execution_count": 15,
   "metadata": {
    "collapsed": true
   },
   "outputs": [],
   "source": [
    "def chooseBestFeatureToSplit(dataset):\n",
    "    numFeatures = len(dataset[0]) - 1                                   # Last column are the labels\n",
    "    \n",
    "    baseEntropy = calcShannonEntropy(dataset)                           # Calculates entropy of entire dataset\n",
    "    \n",
    "    bestInfoGain = 0.0                                                  # Starts with 0                       \n",
    "    bestFeature = -1                                                    # No best feature selected\n",
    "    \n",
    "    for feature in range(numFeatures):                              \n",
    "        featureValuesList = [example[feature] for example in dataset]   # Gets of values of the X feature\n",
    "        uniqueFeatureValuesList = set(featureValuesList)                # Removes the repeated ones\n",
    "        \n",
    "        newEntropy = 0.0\n",
    "        \n",
    "        for featureValue in uniqueFeatureValuesList:                    # Iterate over all unique values\n",
    "            subDataset = splitDataset(dataset, feature, featureValue)   # Split the dataset from feature-value\n",
    "            \n",
    "            probability = len(subDataset) / float(len(dataset))         # Calculates probability for that feature-value\n",
    "            newEntropy += probability + calcShannonEntropy(subDataset)  # Calculates entropy of the feature\n",
    "            \n",
    "        infoGain = baseEntropy - newEntropy\n",
    "            \n",
    "        print(\"Feature \", feature, \": \", newEntropy, \" Gain:\", infoGain)\n",
    "        \n",
    "        if infoGain > bestInfoGain:\n",
    "            bestInfoGain = infoGain\n",
    "            bestFeature = feature\n",
    "    \n",
    "    print(\"Dataset Entropy: \", baseEntropy, \", Best Entropy: \", bestInfoGain, \" (\", bestFeature, \")\")\n",
    "    return bestFeature"
   ]
  },
  {
   "cell_type": "code",
   "execution_count": 5,
   "metadata": {
    "collapsed": true
   },
   "outputs": [],
   "source": [
    "def majorityCount(classList):\n",
    "    classCount = {}\n",
    "    \n",
    "    for item in classList:  \n",
    "        if item not in classCount.keys():\n",
    "            classCount[item] = 0\n",
    "        \n",
    "        classCount[item] += 1\n",
    "        \n",
    "    sortedClassCount = sorted(classCount.iteritems(), key=operator.itemgetter(1), reverse=True)\n",
    "    \n",
    "    return sortedClassCount[0][0]"
   ]
  },
  {
   "cell_type": "code",
   "execution_count": 17,
   "metadata": {
    "collapsed": true
   },
   "outputs": [],
   "source": [
    "def createTree(dataset, labels):\n",
    "    classList = [example[-1] for example in dataset]\n",
    "    \n",
    "    if len(set(classList)) == 1:\n",
    "        return classList[0]\n",
    "    \n",
    "    if len(dataset[0]) == 1:\n",
    "        return majorityCount(classList)\n",
    "    \n",
    "    bestFeature = chooseBestFeatureToSplit(dataset)\n",
    "    print(\"Dataset:\", dataset, \"\\nBest Feature:\", bestFeature)\n",
    "    \n",
    "    bestFeatureLabel = labels[bestFeature]\n",
    "    \n",
    "    myTree = { bestFeatureLabel: {}}\n",
    "    \n",
    "    del(labels[bestFeature])\n",
    "    \n",
    "    featureValues = [example[bestFeature] for example in dataset]\n",
    "    uniqueFeatureValues = set(featureValues)\n",
    "    \n",
    "    for value in uniqueFeatureValues:\n",
    "        subLabels = labels[:]\n",
    "        \n",
    "        myTree[bestFeatureLabel][value] = createTree(splitDataset(dataset, bestFeature, value), subLabels)\n",
    "        \n",
    "    return myTree"
   ]
  },
  {
   "cell_type": "code",
   "execution_count": 18,
   "metadata": {
    "collapsed": true
   },
   "outputs": [],
   "source": [
    "myDataset, labels = createDataset()"
   ]
  },
  {
   "cell_type": "code",
   "execution_count": 16,
   "metadata": {},
   "outputs": [
    {
     "name": "stdout",
     "output_type": "stream",
     "text": [
      "Feature  0 :  1.9182958340544896  Gain: -0.947345239599821\n",
      "Feature  1 :  2.0  Gain: -1.0290494055453314\n",
      "Dataset Entropy:  0.9709505944546686 , Best Entropy:  0.0  ( -1 )\n"
     ]
    },
    {
     "data": {
      "text/plain": [
       "-1"
      ]
     },
     "execution_count": 16,
     "metadata": {},
     "output_type": "execute_result"
    }
   ],
   "source": [
    "chooseBestFeatureToSplit(myDataset)"
   ]
  },
  {
   "cell_type": "code",
   "execution_count": 19,
   "metadata": {},
   "outputs": [
    {
     "name": "stdout",
     "output_type": "stream",
     "text": [
      "Feature  0 :  1.9182958340544896  Gain: -0.947345239599821\n",
      "Feature  1 :  2.0  Gain: -1.0290494055453314\n",
      "Dataset Entropy:  0.9709505944546686 , Best Entropy:  0.0  ( -1 )\n",
      "Dataset: [[1, 1, 'yes'], [1, 1, 'yes'], [1, 0, 'no'], [0, 1, 'no'], [0, 1, 'no']] \n",
      "Best Feature: -1\n"
     ]
    },
    {
     "data": {
      "text/plain": [
       "{'flippers': {'no': 'no', 'yes': 'yes'}}"
      ]
     },
     "execution_count": 19,
     "metadata": {},
     "output_type": "execute_result"
    }
   ],
   "source": [
    "createTree(myDataset, labels)\n",
    "\n",
    "# REPASAR createTree y chooseBestFeatureToSplit"
   ]
  },
  {
   "cell_type": "code",
   "execution_count": 18,
   "metadata": {},
   "outputs": [
    {
     "data": {
      "text/plain": [
       "{'flippers': {0: 'no', 1: {'no surfacing': {'no': 'no', 'yes': 'yes'}}}}"
      ]
     },
     "execution_count": 18,
     "metadata": {},
     "output_type": "execute_result"
    }
   ],
   "source": [
    "myTree"
   ]
  }
 ],
 "metadata": {
  "kernelspec": {
   "display_name": "Python 3",
   "language": "python",
   "name": "python3"
  },
  "language_info": {
   "codemirror_mode": {
    "name": "ipython",
    "version": 3
   },
   "file_extension": ".py",
   "mimetype": "text/x-python",
   "name": "python",
   "nbconvert_exporter": "python",
   "pygments_lexer": "ipython3",
   "version": "3.5.2"
  }
 },
 "nbformat": 4,
 "nbformat_minor": 2
}
