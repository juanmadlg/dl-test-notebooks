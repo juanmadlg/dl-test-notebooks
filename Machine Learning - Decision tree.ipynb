{
 "cells": [
  {
   "cell_type": "code",
   "execution_count": 37,
   "metadata": {
    "collapsed": true
   },
   "outputs": [],
   "source": [
    "from math import log\n",
    "import operator\n",
    "\n",
    "def calcShannonEntropy(dataset):\n",
    "    numEntries = len(dataset)\n",
    "    \n",
    "    labelCounts = {}\n",
    "    \n",
    "    for featureVector in dataset:\n",
    "        currentLabel = featureVector[-1]\n",
    "        \n",
    "        if currentLabel not in labelCounts.keys():\n",
    "            labelCounts[currentLabel] = 0\n",
    "        \n",
    "        labelCounts[currentLabel] += 1\n",
    "        \n",
    "    shannonEntropy = 0.0\n",
    "    \n",
    "    for key in labelCounts:\n",
    "        probability = float(labelCounts[key]) / numEntries\n",
    "        shannonEntropy -= probability * log(probability,2)\n",
    "            \n",
    "    return shannonEntropy\n",
    "    "
   ]
  },
  {
   "cell_type": "code",
   "execution_count": 18,
   "metadata": {
    "collapsed": true
   },
   "outputs": [],
   "source": [
    "def createDataset():\n",
    "    dataset = [[1,1,'yes'],[1,1,'yes'],[1,0,'no'],[0,1,'no'],[0,1,'no']]\n",
    "    \n",
    "    labels = ['no surfacing', 'flippers']\n",
    "    \n",
    "    return dataset, labels "
   ]
  },
  {
   "cell_type": "code",
   "execution_count": 6,
   "metadata": {},
   "outputs": [],
   "source": [
    "def splitDataset(dataset, axis, value):\n",
    "    result = []\n",
    "    \n",
    "    for featureVector in dataset:\n",
    "        if featureVector[axis] == value:\n",
    "            reducedFeatureVector = featureVector[:axis]\n",
    "            reducedFeatureVector.extend(featureVector[axis+1:])\n",
    "            \n",
    "            result.append(reducedFeatureVector)\n",
    "    \n",
    "    return result"
   ]
  },
  {
   "cell_type": "code",
   "execution_count": 35,
   "metadata": {
    "collapsed": true
   },
   "outputs": [],
   "source": [
    "def chooseBestFeatureToSplit(dataset):\n",
    "    numFeatures = len(dataset[0]) - 1\n",
    "    \n",
    "    baseEntropy = calcShannonEntropy(dataset)\n",
    "    \n",
    "    bestInfoGain = baseEntropy;\n",
    "    bestFeature = -1\n",
    "    \n",
    "    for feature in range(numFeatures):\n",
    "        featureValuesList = [example[feature] for example in dataset]\n",
    "        \n",
    "        uniqueFeatureValuesList = set(featureValuesList)\n",
    "        \n",
    "        newEntropy = 0.0\n",
    "        \n",
    "        for featureValue in uniqueFeatureValuesList:\n",
    "            subDataset = splitDataset(dataset, feature, featureValue)\n",
    "            \n",
    "            probability = len(subDataset) / float(len(dataset))\n",
    "            newEntropy += probability + calcShannonEntropy(subDataset)\n",
    "        \n",
    "        if newEntropy > bestInfoGain:\n",
    "            bestInfoGain = newEntropy\n",
    "            bestFeature = feature\n",
    "    \n",
    "    return bestFeature"
   ]
  },
  {
   "cell_type": "code",
   "execution_count": 40,
   "metadata": {
    "collapsed": true
   },
   "outputs": [],
   "source": [
    "def majorityCount(classList):\n",
    "    classCount = {}\n",
    "    \n",
    "    for item in classList:  \n",
    "        if item not in classCount.keys():\n",
    "            classCount[item] = 0\n",
    "        \n",
    "        classCount[item] += 1\n",
    "        \n",
    "    sortedClassCount = sorted(classCount.iteritems(), key=operator.itemgetter(1), reverse=True)\n",
    "    \n",
    "    return sortedClassCount[0][0]"
   ]
  },
  {
   "cell_type": "code",
   "execution_count": 42,
   "metadata": {
    "collapsed": true
   },
   "outputs": [],
   "source": [
    "def createTree(dataset, labels):\n",
    "    classList = [example[-1] for example in dataset]\n",
    "    \n",
    "    if classList.count(classList[0]) == len(classList):\n",
    "        return classList[0]\n",
    "    \n",
    "    if len(dataset[0]) == 1:\n",
    "        return majorityCount(classList)\n",
    "    \n",
    "    # CONTINUAR AQUI"
   ]
  },
  {
   "cell_type": "code",
   "execution_count": 33,
   "metadata": {
    "collapsed": true
   },
   "outputs": [],
   "source": [
    "myDataset, labels = createDataset()"
   ]
  },
  {
   "cell_type": "code",
   "execution_count": 36,
   "metadata": {},
   "outputs": [
    {
     "data": {
      "text/plain": [
       "1"
      ]
     },
     "execution_count": 36,
     "metadata": {},
     "output_type": "execute_result"
    }
   ],
   "source": [
    "chooseBestFeatureToSplit(myDataset)"
   ]
  }
 ],
 "metadata": {
  "kernelspec": {
   "display_name": "Python 3",
   "language": "python",
   "name": "python3"
  },
  "language_info": {
   "codemirror_mode": {
    "name": "ipython",
    "version": 3
   },
   "file_extension": ".py",
   "mimetype": "text/x-python",
   "name": "python",
   "nbconvert_exporter": "python",
   "pygments_lexer": "ipython3",
   "version": "3.5.2"
  }
 },
 "nbformat": 4,
 "nbformat_minor": 2
}
