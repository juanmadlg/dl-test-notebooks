{
 "cells": [
  {
   "cell_type": "code",
   "execution_count": 11,
   "metadata": {
    "collapsed": true
   },
   "outputs": [],
   "source": [
    "from math import log\n",
    "\n",
    "def calcShannonEntropy(dataset):\n",
    "    numEntries = len(dataset)\n",
    "    \n",
    "    labelCounts = {}\n",
    "    \n",
    "    for featureVector in dataset:\n",
    "        currentLabel = featureVector[-1]\n",
    "        \n",
    "        if currentLabel not in labelCounts.keys():\n",
    "            labelCounts[currentLabel] = 0\n",
    "        \n",
    "        labelCounts[currentLabel] += 1\n",
    "        \n",
    "    shannonEntropy = 0.0\n",
    "    \n",
    "    for key in labelCounts:\n",
    "        probability = float(labelCounts[key]) / numEntries\n",
    "        shannonEntropy -= probability * log(probability,2)\n",
    "            \n",
    "    return shannonEntropy\n",
    "    "
   ]
  },
  {
   "cell_type": "code",
   "execution_count": 13,
   "metadata": {
    "collapsed": true
   },
   "outputs": [],
   "source": [
    "def createDataset():\n",
    "    dataset = [[1,1,'maybe'],[1,1,'yes'],[1,1,'yes'],[1,0,'no'],[0,1,'no'],[0,1,'no']]\n",
    "    \n",
    "    labels = ['no surfacing', 'flippers']\n",
    "    \n",
    "    return dataset, labels "
   ]
  },
  {
   "cell_type": "code",
   "execution_count": 16,
   "metadata": {},
   "outputs": [
    {
     "ename": "SyntaxError",
     "evalue": "invalid syntax (<ipython-input-16-fa94e6d67cc7>, line 5)",
     "output_type": "error",
     "traceback": [
      "\u001b[0;36m  File \u001b[0;32m\"<ipython-input-16-fa94e6d67cc7>\"\u001b[0;36m, line \u001b[0;32m5\u001b[0m\n\u001b[0;31m    if featureVector[axis] === value:\u001b[0m\n\u001b[0m                             ^\u001b[0m\n\u001b[0;31mSyntaxError\u001b[0m\u001b[0;31m:\u001b[0m invalid syntax\n"
     ]
    }
   ],
   "source": [
    "def splitDataset(dataset, axis, value):\n",
    "    result = []\n",
    "    \n",
    "    for featureVector in dataset:\n",
    "        if featureVector[axis] === value:\n",
    "            reducedFeatureVector = feactureVector[:axis]\n",
    "            reducedFeatureVector.extend(featureVector[axis+1:])\n",
    "            \n",
    "            result.append(reducedFeatureVector)\n",
    "    \n",
    "    return result"
   ]
  },
  {
   "cell_type": "code",
   "execution_count": 14,
   "metadata": {
    "collapsed": true
   },
   "outputs": [],
   "source": [
    "myDataset, labels = createDataset()"
   ]
  },
  {
   "cell_type": "code",
   "execution_count": 15,
   "metadata": {},
   "outputs": [
    {
     "data": {
      "text/plain": [
       "1.4591479170272448"
      ]
     },
     "execution_count": 15,
     "metadata": {},
     "output_type": "execute_result"
    }
   ],
   "source": [
    "calcShannonEntropy(myDataset)"
   ]
  }
 ],
 "metadata": {
  "kernelspec": {
   "display_name": "Python 3",
   "language": "python",
   "name": "python3"
  },
  "language_info": {
   "codemirror_mode": {
    "name": "ipython",
    "version": 3
   },
   "file_extension": ".py",
   "mimetype": "text/x-python",
   "name": "python",
   "nbconvert_exporter": "python",
   "pygments_lexer": "ipython3",
   "version": "3.5.2"
  }
 },
 "nbformat": 4,
 "nbformat_minor": 2
}
