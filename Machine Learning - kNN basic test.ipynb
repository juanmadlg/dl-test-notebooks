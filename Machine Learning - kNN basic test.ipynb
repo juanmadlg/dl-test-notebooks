{
 "cells": [
  {
   "cell_type": "code",
   "execution_count": 2,
   "metadata": {
    "collapsed": true
   },
   "outputs": [],
   "source": [
    "from numpy import *\n",
    "import operator"
   ]
  },
  {
   "cell_type": "code",
   "execution_count": 3,
   "metadata": {
    "collapsed": true
   },
   "outputs": [],
   "source": [
    "def createDataSet():\n",
    "    group = array([[1.0,1.1],[1.0,1.0],[0,0],[0,0.1]])\n",
    "    labels = ['A','A','B','B']\n",
    "    return group, labels"
   ]
  },
  {
   "cell_type": "code",
   "execution_count": 4,
   "metadata": {
    "collapsed": true
   },
   "outputs": [],
   "source": [
    "group, labels = createDataSet()"
   ]
  },
  {
   "cell_type": "code",
   "execution_count": 7,
   "metadata": {},
   "outputs": [
    {
     "data": {
      "text/plain": [
       "array([[ 1. ,  1.1],\n",
       "       [ 1. ,  1. ],\n",
       "       [ 0. ,  0. ],\n",
       "       [ 0. ,  0.1]])"
      ]
     },
     "execution_count": 7,
     "metadata": {},
     "output_type": "execute_result"
    }
   ],
   "source": [
    "group"
   ]
  },
  {
   "cell_type": "code",
   "execution_count": 15,
   "metadata": {},
   "outputs": [],
   "source": [
    "def classify0(inX, dataSet, labels, k):\n",
    "    # TODO: Añadir asserts\n",
    "    # inX es un vector\n",
    "    # dataSet es una matriz\n",
    "    # labels es un vector\n",
    "    # el numero de elementos de labels = numero de filas de dataset\n",
    "    # k es un entero menor que el numero de filas de dataset\n",
    "    \n",
    "    \n",
    "    \n",
    "    # CALCULANDO UNA MATRIZ DE DISTANCIAS ENTRE inX Y LOS PUNTOS EXISTENTES EN dataSet\n",
    "    # para ello se calcula la distancia Euclidiana con cada uno de los puntos\n",
    "    # La funcion 'tile' repite el vector inX en una matriz de dataSetSize filas y 1 columna\n",
    "    # A esa matriz se le resta el data set\n",
    "    dataSetSize = dataSet.shape[0]\n",
    "    differentialMatrix = tile(inX, (dataSetSize,1)) - dataSet\n",
    "    squaredDifferentialMatrix = differentialMatrix**2\n",
    "    # Results in vectors\n",
    "    squaredDistances = squaredDifferentialMatrix.sum(axis=1)\n",
    "    distances = squaredDistances**0.5\n",
    "    \n",
    "    #TODO: NECESITO ENTENDER COMO FUNCIONA ESTE argsort\n",
    "    sortedDistancesIndexes = distances.argsort()\n",
    "    \n",
    "    classCount = {}\n",
    "    \n",
    "    for i in range(k):\n",
    "        label = labels[sortedDistancesIndexes[i]]\n",
    "        classCount[label] = classCount.get(label,0) + 1\n",
    "        \n",
    "    sortedClassCount = sorted(classCount.items(), key=operator.itemgetter(1), reverse=True)\n",
    "    \n",
    "    return sortedClassCount[0][0]"
   ]
  },
  {
   "cell_type": "code",
   "execution_count": 17,
   "metadata": {},
   "outputs": [
    {
     "data": {
      "text/plain": [
       "'A'"
      ]
     },
     "execution_count": 17,
     "metadata": {},
     "output_type": "execute_result"
    }
   ],
   "source": [
    "classify0([0.8,0.8], group, labels, 3)"
   ]
  }
 ],
 "metadata": {
  "kernelspec": {
   "display_name": "Python 3",
   "language": "python",
   "name": "python3"
  },
  "language_info": {
   "codemirror_mode": {
    "name": "ipython",
    "version": 3
   },
   "file_extension": ".py",
   "mimetype": "text/x-python",
   "name": "python",
   "nbconvert_exporter": "python",
   "pygments_lexer": "ipython3",
   "version": "3.5.2"
  }
 },
 "nbformat": 4,
 "nbformat_minor": 2
}
