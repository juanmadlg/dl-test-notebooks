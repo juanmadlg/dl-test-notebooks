{
 "cells": [
  {
   "cell_type": "code",
   "execution_count": 2,
   "metadata": {
    "collapsed": true
   },
   "outputs": [],
   "source": [
    "from numpy import *"
   ]
  },
  {
   "cell_type": "code",
   "execution_count": 3,
   "metadata": {
    "collapsed": true
   },
   "outputs": [],
   "source": [
    "def loadDataSet():\n",
    "    postingList = [['my', 'dog', 'has', 'flea', 'problems', 'help', 'please'], \n",
    "                   ['maybe', 'not', 'take', 'him', 'to', 'dog', 'park', 'stupid'],\n",
    "                   ['my', 'dalmation', 'is', 'so', 'cute', 'I', 'love', 'him'],\n",
    "                   ['stop', 'posting', 'stupid', 'worthless', 'garbage'],\n",
    "                   ['mr', 'licks', 'ate', 'my', 'steak', 'how', 'to', 'stop', 'him'],\n",
    "                   ['quit', 'buying', 'worthless', 'dog', 'food', 'stupid']]\n",
    "    classVector = [0,1,0,1,0,1] # 1 is abusive, 0 not\n",
    "    \n",
    "    return postingList, classVector"
   ]
  },
  {
   "cell_type": "code",
   "execution_count": 4,
   "metadata": {
    "collapsed": true
   },
   "outputs": [],
   "source": [
    "def createVocabularyList(dataSet):\n",
    "    vocabularySet = set([]) #empty set, un set es una lista no ordenada de elementos únicos\n",
    "    \n",
    "    for document in dataSet:\n",
    "        vocabularySet = vocabularySet | set(document) # inion of two sets\n",
    "    \n",
    "    return list(vocabularySet)"
   ]
  },
  {
   "cell_type": "code",
   "execution_count": 18,
   "metadata": {
    "collapsed": true
   },
   "outputs": [],
   "source": [
    "def bagOfWords2Vector(vocabularyList, inputSet):\n",
    "    vector = [0]*len(vocabularyList) # Crea vector con 0 para cada palabra existente\n",
    "    \n",
    "    for word in inputSet:\n",
    "        if word in vocabularyList:\n",
    "            vector[vocabularyList.index(word)] += 1\n",
    "        else:\n",
    "            print(\"The word %s is not in my vocabulary!\" % word)\n",
    "    \n",
    "    return vector"
   ]
  },
  {
   "cell_type": "code",
   "execution_count": 9,
   "metadata": {
    "collapsed": true
   },
   "outputs": [],
   "source": [
    "posts, classes = loadDataSet()\n",
    "vocabulary = createVocabularyList(posts)"
   ]
  },
  {
   "cell_type": "code",
   "execution_count": 12,
   "metadata": {
    "collapsed": true
   },
   "outputs": [],
   "source": [
    "def trainNB0(trainMatrix, trainCategory):\n",
    "    numTrainDocs = len(trainMatrix)\n",
    "    \n",
    "    numWords = len(trainMatrix[0])\n",
    "    \n",
    "    probabilityAbusive = sum(trainCategory)/float(numTrainDocs)\n",
    "    \n",
    "    p0Num = ones(numWords)\n",
    "    p1Num = ones(numWords)\n",
    "    \n",
    "    p0Denom = 2.0\n",
    "    p1Denom = 2.0\n",
    "    \n",
    "    for i in range(numTrainDocs):\n",
    "        if trainCategory[i] == 1:\n",
    "            p1Num += trainMatrix[i]\n",
    "            p1Denom += sum(trainMatrix[i])\n",
    "        else:\n",
    "            p0Num += trainMatrix[i]\n",
    "            p0Denom += sum(trainMatrix[i])\n",
    "    \n",
    "    p1Vect = log(p1Num/p1Denom)\n",
    "    p0Vect = log(p0Num/p0Denom)\n",
    "    \n",
    "    return p0Vect, p1Vect, probabilityAbusive"
   ]
  },
  {
   "cell_type": "code",
   "execution_count": 15,
   "metadata": {
    "collapsed": true
   },
   "outputs": [],
   "source": [
    "def classifyNB(vectorToClassify, p0Vector, p1Vector, pClass):\n",
    "    p1 = sum(vectorToClassify * p1Vector) + log(pClass)\n",
    "    p0 = sum(vectorToClassify * p0Vector) + log(1.0 - pClass)\n",
    "    \n",
    "    if p1 > p0:\n",
    "        return 1\n",
    "    else:\n",
    "        return 0"
   ]
  },
  {
   "cell_type": "code",
   "execution_count": 20,
   "metadata": {
    "collapsed": true
   },
   "outputs": [],
   "source": [
    "def testingNB():\n",
    "    posts, classes = loadDataSet()\n",
    "    vocabulary = createVocabularyList(posts)\n",
    "    \n",
    "    trainMat = []\n",
    "    for post in posts:\n",
    "        trainMat.append(bagOfWords2Vector(vocabulary, post))\n",
    "        \n",
    "    p0V, p1V, pAb = trainNB0(array(trainMat), array(classes))\n",
    "    \n",
    "    testEntry = ['love', 'my', 'dalmation']\n",
    "    \n",
    "    thisDoc = array(bagOfWords2Vector(vocabulary, testEntry))\n",
    "    print(testEntry, \"classified as: \", classifyNB(thisDoc,p0V,p1V,pAb))\n",
    "    \n",
    "    testEntry = ['stupid', 'garbage']\n",
    "    thisDoc = array(bagOfWords2Vector(vocabulary, testEntry))\n",
    "    print(testEntry, \"classified as: \", classifyNB(thisDoc,p0V,p1V,pAb))"
   ]
  },
  {
   "cell_type": "code",
   "execution_count": 21,
   "metadata": {},
   "outputs": [
    {
     "name": "stdout",
     "output_type": "stream",
     "text": [
      "['love', 'my', 'dalmation'] classified as:  0\n",
      "['stupid', 'garbage'] classified as:  1\n"
     ]
    }
   ],
   "source": [
    "testingNB()"
   ]
  }
 ],
 "metadata": {
  "kernelspec": {
   "display_name": "Python 3",
   "language": "python",
   "name": "python3"
  },
  "language_info": {
   "codemirror_mode": {
    "name": "ipython",
    "version": 3
   },
   "file_extension": ".py",
   "mimetype": "text/x-python",
   "name": "python",
   "nbconvert_exporter": "python",
   "pygments_lexer": "ipython3",
   "version": "3.5.2"
  }
 },
 "nbformat": 4,
 "nbformat_minor": 2
}
