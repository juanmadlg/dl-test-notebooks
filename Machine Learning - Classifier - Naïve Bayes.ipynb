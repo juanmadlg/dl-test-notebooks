{
 "cells": [
  {
   "cell_type": "code",
   "execution_count": 11,
   "metadata": {
    "collapsed": true
   },
   "outputs": [],
   "source": [
    "from numpy import *"
   ]
  },
  {
   "cell_type": "code",
   "execution_count": 1,
   "metadata": {
    "collapsed": true
   },
   "outputs": [],
   "source": [
    "def loadDataSet():\n",
    "    postingList = [['my', 'dog', 'has', 'flea', 'problems', 'help', 'please'], \n",
    "                   ['maybe', 'not', 'take', 'him', 'to', 'dog', 'park', 'stupid'],\n",
    "                   ['my', 'dalmation', 'is', 'so', 'cute', 'I', 'love', 'him'],\n",
    "                   ['stop', 'posting', 'stupid', 'worthless', 'garbage'],\n",
    "                   ['mr', 'licks', 'ate', 'my', 'steak', 'how', 'to', 'stop', 'him'],\n",
    "                   ['quit', 'buying', 'worthless', 'dog', 'food', 'stupid']]\n",
    "    classVector = [0,1,0,1,0,1] # 1 is abusive, 0 not\n",
    "    \n",
    "    return postingList, classVector"
   ]
  },
  {
   "cell_type": "code",
   "execution_count": 4,
   "metadata": {
    "collapsed": true
   },
   "outputs": [],
   "source": [
    "def createVocabularyList(dataSet):\n",
    "    vocabularySet = set([]) #empty set, un set es una lista no ordenada de elementos únicos\n",
    "    \n",
    "    for document in dataSet:\n",
    "        vocabularySet = vocabularySet | set(document) # inion of two sets\n",
    "    \n",
    "    return list(vocabularySet)"
   ]
  },
  {
   "cell_type": "code",
   "execution_count": 5,
   "metadata": {
    "collapsed": true
   },
   "outputs": [],
   "source": [
    "def setOfWords2Vector(vocabularyList, inputSet):\n",
    "    vector = [0]*len(vocabularyList) # Crea vector con 0 para cada palabra existente\n",
    "    \n",
    "    for word in inputSet:\n",
    "        if word in vocabularyList:\n",
    "            vector[vocabularyList.index(word)] = 1\n",
    "        else:\n",
    "            print(\"The word %s is not in my vocabulary!\" % word)\n",
    "    \n",
    "    return vector"
   ]
  },
  {
   "cell_type": "code",
   "execution_count": 12,
   "metadata": {
    "collapsed": true
   },
   "outputs": [],
   "source": [
    "posts, classes = loadDataSet()"
   ]
  },
  {
   "cell_type": "code",
   "execution_count": 14,
   "metadata": {
    "collapsed": true
   },
   "outputs": [],
   "source": [
    "def trainNB0(trainMatrix, trainCategory):\n",
    "    numTrainDocs = len(trainMatrix)\n",
    "    \n",
    "    numWords = len(trainMatrix[0])\n",
    "    \n",
    "    probabilityAbusive = sum(trainCategory)/float(numTrainDocs)\n",
    "    \n",
    "    p0Num = zeros(numWords)\n",
    "    p1Num = zeros(numWords)\n",
    "    \n",
    "    p0Denom = 0.0\n",
    "    p1Denom = 0.0\n",
    "    \n",
    "    for i in range(numTrainDocs):\n",
    "        if trainCategory[i] == 1:\n",
    "            p1Num += trainMatrix[i]\n",
    "            p1Denom += sum(trainMatrix[i])\n",
    "        else:\n",
    "            p0Num += trainMatrix[i]\n",
    "            p0Denom += sum(trainMatrix[i])\n",
    "    \n",
    "    p1Vect = p1Num/p1Denom\n",
    "    p0Vect = p0Num/p0Denom\n",
    "    \n",
    "    return p0Vect, p1Vect, probabilityAbusive"
   ]
  },
  {
   "cell_type": "code",
   "execution_count": 17,
   "metadata": {},
   "outputs": [],
   "source": [
    "trainMat = []\n",
    "for postInDoc in posts:\n",
    "    trainMat.append(setOfWords2Vector(vocabulary, postInDoc))"
   ]
  },
  {
   "cell_type": "code",
   "execution_count": 19,
   "metadata": {},
   "outputs": [
    {
     "data": {
      "text/plain": [
       "(array([ 0.        ,  0.04166667,  0.04166667,  0.        ,  0.        ,\n",
       "         0.04166667,  0.        ,  0.04166667,  0.04166667,  0.04166667,\n",
       "         0.        ,  0.        ,  0.04166667,  0.04166667,  0.04166667,\n",
       "         0.04166667,  0.        ,  0.04166667,  0.04166667,  0.08333333,\n",
       "         0.04166667,  0.125     ,  0.        ,  0.        ,  0.04166667,\n",
       "         0.        ,  0.        ,  0.04166667,  0.04166667,  0.04166667,\n",
       "         0.04166667,  0.04166667]),\n",
       " array([ 0.05263158,  0.        ,  0.        ,  0.05263158,  0.05263158,\n",
       "         0.        ,  0.05263158,  0.        ,  0.        ,  0.        ,\n",
       "         0.15789474,  0.05263158,  0.        ,  0.10526316,  0.        ,\n",
       "         0.05263158,  0.10526316,  0.        ,  0.        ,  0.05263158,\n",
       "         0.        ,  0.        ,  0.05263158,  0.05263158,  0.        ,\n",
       "         0.05263158,  0.05263158,  0.        ,  0.05263158,  0.        ,\n",
       "         0.        ,  0.        ]),\n",
       " 0.5)"
      ]
     },
     "execution_count": 19,
     "metadata": {},
     "output_type": "execute_result"
    }
   ],
   "source": [
    "trainNB0(trainMat, classes)"
   ]
  },
  {
   "cell_type": "code",
   "execution_count": null,
   "metadata": {
    "collapsed": true
   },
   "outputs": [],
   "source": []
  },
  {
   "cell_type": "code",
   "execution_count": null,
   "metadata": {
    "collapsed": true
   },
   "outputs": [],
   "source": []
  }
 ],
 "metadata": {
  "kernelspec": {
   "display_name": "Python 3",
   "language": "python",
   "name": "python3"
  },
  "language_info": {
   "codemirror_mode": {
    "name": "ipython",
    "version": 3
   },
   "file_extension": ".py",
   "mimetype": "text/x-python",
   "name": "python",
   "nbconvert_exporter": "python",
   "pygments_lexer": "ipython3",
   "version": "3.5.2"
  }
 },
 "nbformat": 4,
 "nbformat_minor": 2
}
